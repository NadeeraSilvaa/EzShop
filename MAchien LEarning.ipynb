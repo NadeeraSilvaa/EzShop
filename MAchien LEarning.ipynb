{
  "nbformat": 4,
  "nbformat_minor": 0,
  "metadata": {
    "colab": {
      "provenance": [],
      "authorship_tag": "ABX9TyMWzGch2L7Zv20pb5PS2K5A",
      "include_colab_link": true
    },
    "kernelspec": {
      "name": "python3",
      "display_name": "Python 3"
    },
    "language_info": {
      "name": "python"
    }
  },
  "cells": [
    {
      "cell_type": "markdown",
      "metadata": {
        "id": "view-in-github",
        "colab_type": "text"
      },
      "source": [
        "<a href=\"https://colab.research.google.com/github/Nadiya69/EzShop/blob/master/MAchien%20LEarning.ipynb\" target=\"_parent\"><img src=\"https://colab.research.google.com/assets/colab-badge.svg\" alt=\"Open In Colab\"/></a>"
      ]
    },
    {
      "cell_type": "code",
      "execution_count": null,
      "metadata": {
        "colab": {
          "base_uri": "https://localhost:8080/"
        },
        "id": "_mRHeWepWSqZ",
        "outputId": "0e6048f4-89d5-4c49-a76f-165e131c6255"
      },
      "outputs": [
        {
          "output_type": "stream",
          "name": "stdout",
          "text": [
            "12\n",
            " OCTOBER SKY\n",
            " october sky\n",
            " october sky\n",
            "1\n"
          ]
        }
      ],
      "source": [
        "film=\" october sky\"\n",
        "print(len(film))\n",
        "print(film.upper())\n",
        "print(film.lower())\n",
        "print(film.capitalize())\n",
        "print(film.find(\"o\"))"
      ]
    },
    {
      "cell_type": "markdown",
      "source": [
        "Arthematic Operations\n"
      ],
      "metadata": {
        "id": "JZzibkshWcBj"
      }
    },
    {
      "cell_type": "code",
      "source": [
        "print(10+3)\n",
        "print(10-3)\n",
        "print(10*3)\n",
        "print(10/3)\n",
        "print(10+10+10)"
      ],
      "metadata": {
        "colab": {
          "base_uri": "https://localhost:8080/"
        },
        "id": "yrMdL5elWeCA",
        "outputId": "4812cb08-379e-442a-d6e9-d5fa73a1af45"
      },
      "execution_count": null,
      "outputs": [
        {
          "output_type": "stream",
          "name": "stdout",
          "text": [
            "13\n",
            "7\n",
            "30\n",
            "3.3333333333333335\n",
            "30\n"
          ]
        }
      ]
    },
    {
      "cell_type": "code",
      "source": [
        "x=10\n",
        "y=2\n",
        "print(x+y)"
      ],
      "metadata": {
        "colab": {
          "base_uri": "https://localhost:8080/"
        },
        "id": "dd8OFHJrZqme",
        "outputId": "4c057791-7fb9-453c-a3a5-2db71fc3f53d"
      },
      "execution_count": null,
      "outputs": [
        {
          "output_type": "stream",
          "name": "stdout",
          "text": [
            "12\n"
          ]
        }
      ]
    },
    {
      "cell_type": "markdown",
      "source": [
        "Map Functions"
      ],
      "metadata": {
        "id": "LO7MqwttbApG"
      }
    },
    {
      "cell_type": "code",
      "source": [
        "import math\n",
        "\n",
        "print(math.ceil(2.9))\n",
        "print(math.floor(2.9))"
      ],
      "metadata": {
        "colab": {
          "base_uri": "https://localhost:8080/"
        },
        "id": "co-IGMXAbCj4",
        "outputId": "02c337ad-5e13-4975-beb1-273b697c745b"
      },
      "execution_count": null,
      "outputs": [
        {
          "output_type": "stream",
          "name": "stdout",
          "text": [
            "3\n",
            "2\n"
          ]
        }
      ]
    },
    {
      "cell_type": "markdown",
      "source": [
        "If Else Statement"
      ],
      "metadata": {
        "id": "9IQIsAoAb_LJ"
      }
    },
    {
      "cell_type": "code",
      "source": [
        "condition = 30\n",
        "if condition == 30:\n",
        "  print(\"Five\")\n",
        "else:\n",
        "  print(\"Not five\")"
      ],
      "metadata": {
        "colab": {
          "base_uri": "https://localhost:8080/"
        },
        "id": "KqriwvuscCAm",
        "outputId": "dcd9dc76-2ce6-41a9-a320-df8a1886559a"
      },
      "execution_count": null,
      "outputs": [
        {
          "output_type": "stream",
          "name": "stdout",
          "text": [
            "Five\n"
          ]
        }
      ]
    },
    {
      "cell_type": "markdown",
      "source": [
        "Logical Operators"
      ],
      "metadata": {
        "id": "IFq60E9mdJKk"
      }
    },
    {
      "cell_type": "code",
      "source": [
        "condition1 = True\n",
        "condition2 = False\n",
        "\n",
        "if condition1 and condition2:\n",
        "  print(\"same\")\n",
        "else:\n",
        "  print(\"different\")"
      ],
      "metadata": {
        "colab": {
          "base_uri": "https://localhost:8080/"
        },
        "id": "eGdpWXp8dF8q",
        "outputId": "6ebd0c04-e7bb-4c3b-df16-02d95ae0ee86"
      },
      "execution_count": null,
      "outputs": [
        {
          "output_type": "stream",
          "name": "stdout",
          "text": [
            "different\n"
          ]
        }
      ]
    },
    {
      "cell_type": "markdown",
      "source": [
        "Comparison Operators"
      ],
      "metadata": {
        "id": "Lq8ikE1_eTPb"
      }
    },
    {
      "cell_type": "code",
      "source": [
        "temp=38\n",
        "\n",
        "if temp > 30:\n",
        "  print(\"Very High\")\n",
        "elif temp > 25:\n",
        "  print(\"High\")\n",
        "else:\n",
        "  print(\"Low\")"
      ],
      "metadata": {
        "colab": {
          "base_uri": "https://localhost:8080/"
        },
        "id": "lhMl3nHNeVxP",
        "outputId": "1e966628-8eb9-4943-da3d-3db857569086"
      },
      "execution_count": null,
      "outputs": [
        {
          "output_type": "stream",
          "name": "stdout",
          "text": [
            "Very High\n"
          ]
        }
      ]
    },
    {
      "cell_type": "code",
      "source": [],
      "metadata": {
        "id": "Z2vg1dyie6X4"
      },
      "execution_count": null,
      "outputs": []
    },
    {
      "cell_type": "markdown",
      "source": [
        "Loops"
      ],
      "metadata": {
        "id": "FNURwCAIfFez"
      }
    },
    {
      "cell_type": "code",
      "source": [
        "counter=1\n",
        "\n",
        "while counter <= 10:\n",
        "  print(counter)\n",
        "  counter +=1\n",
        "print(\"Done!\")"
      ],
      "metadata": {
        "colab": {
          "base_uri": "https://localhost:8080/"
        },
        "id": "_bY3rQEYfGb0",
        "outputId": "e63315d4-aac2-40b5-ae01-6dfba150d51f"
      },
      "execution_count": null,
      "outputs": [
        {
          "output_type": "stream",
          "name": "stdout",
          "text": [
            "1\n",
            "2\n",
            "3\n",
            "4\n",
            "5\n",
            "6\n",
            "7\n",
            "8\n",
            "9\n",
            "10\n",
            "Done!\n"
          ]
        }
      ]
    },
    {
      "cell_type": "markdown",
      "source": [
        "For Loop"
      ],
      "metadata": {
        "id": "Fq59HmNYgaAv"
      }
    },
    {
      "cell_type": "code",
      "source": [
        "for i in \"Wassi\":\n",
        "  print(i)"
      ],
      "metadata": {
        "colab": {
          "base_uri": "https://localhost:8080/"
        },
        "id": "-P33Ad4Igbdp",
        "outputId": "74250154-260c-4011-8867-ab35e87b684a"
      },
      "execution_count": null,
      "outputs": [
        {
          "output_type": "stream",
          "name": "stdout",
          "text": [
            "W\n",
            "a\n",
            "s\n",
            "s\n",
            "i\n"
          ]
        }
      ]
    },
    {
      "cell_type": "markdown",
      "source": [
        "list loop\n"
      ],
      "metadata": {
        "id": "mLyviUgAhJy-"
      }
    },
    {
      "cell_type": "code",
      "source": [
        "for i in [\"batman\",\"Malith\",\"Medhani\"]:\n",
        "  print(i)\n"
      ],
      "metadata": {
        "colab": {
          "base_uri": "https://localhost:8080/"
        },
        "id": "trjJ7mSXhtDH",
        "outputId": "435557ed-d8b1-4c98-a146-d6afe2de12aa"
      },
      "execution_count": null,
      "outputs": [
        {
          "output_type": "stream",
          "name": "stdout",
          "text": [
            "batman\n",
            "Malith\n",
            "Medhani\n"
          ]
        }
      ]
    },
    {
      "cell_type": "code",
      "source": [
        "for i in range(0,10):\n",
        "  print(i)"
      ],
      "metadata": {
        "colab": {
          "base_uri": "https://localhost:8080/"
        },
        "id": "vUTyt8dDiRV_",
        "outputId": "ecbee25e-2fcd-493f-d20a-c1b671a3efd5"
      },
      "execution_count": null,
      "outputs": [
        {
          "output_type": "stream",
          "name": "stdout",
          "text": [
            "0\n",
            "1\n",
            "2\n",
            "3\n",
            "4\n",
            "5\n",
            "6\n",
            "7\n",
            "8\n",
            "9\n"
          ]
        }
      ]
    },
    {
      "cell_type": "markdown",
      "source": [
        "0-10 is range and 2 is the divider"
      ],
      "metadata": {
        "id": "ldpSRXeLi6oQ"
      }
    },
    {
      "cell_type": "code",
      "source": [
        "for i in range(0,10,2):\n",
        "  print(i)"
      ],
      "metadata": {
        "colab": {
          "base_uri": "https://localhost:8080/"
        },
        "id": "CPvNXM23iufP",
        "outputId": "88587f27-54fc-43ab-97b5-a5ab951452f0"
      },
      "execution_count": null,
      "outputs": [
        {
          "output_type": "stream",
          "name": "stdout",
          "text": [
            "0\n",
            "2\n",
            "4\n",
            "6\n",
            "8\n"
          ]
        }
      ]
    },
    {
      "cell_type": "markdown",
      "source": [
        "Nested Loop"
      ],
      "metadata": {
        "id": "4UNxX3u9jXxJ"
      }
    },
    {
      "cell_type": "code",
      "source": [
        "for x in range (4):\n",
        "  for y in range (3):\n",
        "    print(f\"{x},{y}\")\n"
      ],
      "metadata": {
        "colab": {
          "base_uri": "https://localhost:8080/"
        },
        "id": "fAPqm8tsjZLP",
        "outputId": "ba90e33f-5b6c-4fce-a34f-4beacba177e1"
      },
      "execution_count": null,
      "outputs": [
        {
          "output_type": "stream",
          "name": "stdout",
          "text": [
            "0,0\n",
            "0,1\n",
            "0,2\n",
            "1,0\n",
            "1,1\n",
            "1,2\n",
            "2,0\n",
            "2,1\n",
            "2,2\n",
            "3,0\n",
            "3,1\n",
            "3,2\n"
          ]
        }
      ]
    },
    {
      "cell_type": "code",
      "source": [
        "names=[\"batman\",\"superman\",\"flash\"]\n",
        "print(names)\n",
        "print(names[0])\n",
        "print(names[:2])\n"
      ],
      "metadata": {
        "colab": {
          "base_uri": "https://localhost:8080/"
        },
        "id": "Te3kZHGMzW0E",
        "outputId": "62f60eff-5b3e-45d0-90b9-f1396916cad0"
      },
      "execution_count": 1,
      "outputs": [
        {
          "output_type": "stream",
          "name": "stdout",
          "text": [
            "['batman', 'superman', 'flash']\n",
            "batman\n",
            "['batman', 'superman']\n"
          ]
        }
      ]
    },
    {
      "cell_type": "markdown",
      "source": [
        "2D list"
      ],
      "metadata": {
        "id": "1fuc1gJb0LKb"
      }
    },
    {
      "cell_type": "code",
      "source": [
        "matrix = [[1,2,3],\n",
        "          [4,5,6],\n",
        "          [7,8,9]]\n",
        "\n",
        "print(matrix)\n",
        "\n",
        "for row in matrix:\n",
        "  for item in row:\n",
        "    print(item)\n",
        ""
      ],
      "metadata": {
        "colab": {
          "base_uri": "https://localhost:8080/"
        },
        "id": "Y2l1ai6u0Q98",
        "outputId": "a6efd24b-4446-4dc1-9cda-3b5bb9abd919"
      },
      "execution_count": 2,
      "outputs": [
        {
          "output_type": "stream",
          "name": "stdout",
          "text": [
            "[[1, 2, 3], [4, 5, 6], [7, 8, 9]]\n",
            "1\n",
            "2\n",
            "3\n",
            "4\n",
            "5\n",
            "6\n",
            "7\n",
            "8\n",
            "9\n"
          ]
        }
      ]
    },
    {
      "cell_type": "markdown",
      "source": [
        "List Methods"
      ],
      "metadata": {
        "id": "abdgki0U2ANA"
      }
    },
    {
      "cell_type": "code",
      "source": [
        "numbers = [1,2,3,4,5]\n",
        "\n",
        "print(numbers)\n",
        "numbers.append(6)\n",
        "print(numbers)\n",
        "\n",
        "numbers.insert(1,30)\n",
        "print(numbers)\n",
        "\n",
        "numbers.remove(30)\n",
        "print(numbers)\n",
        "\n",
        "print(10 in numbers)\n",
        "\n",
        "numbers.clear()\n",
        "print(numbers)"
      ],
      "metadata": {
        "colab": {
          "base_uri": "https://localhost:8080/"
        },
        "id": "cOUeDgX42VGN",
        "outputId": "5adb5dc4-b124-4b90-a7c2-6bf51c5e226d"
      },
      "execution_count": 5,
      "outputs": [
        {
          "output_type": "stream",
          "name": "stdout",
          "text": [
            "[1, 2, 3, 4, 5]\n",
            "[1, 2, 3, 4, 5, 6]\n",
            "[1, 30, 2, 3, 4, 5, 6]\n",
            "[1, 2, 3, 4, 5, 6]\n",
            "False\n",
            "[]\n"
          ]
        }
      ]
    },
    {
      "cell_type": "markdown",
      "source": [
        "Dictionary"
      ],
      "metadata": {
        "id": "F-3E2QFc4rSL"
      }
    },
    {
      "cell_type": "code",
      "source": [
        "customer = {\n",
        "    \"Name\" : \"Bruce\",\n",
        "    \"age\" : 30,\n",
        "    \"Verified\" : True\n",
        "}\n",
        "\n",
        "print(customer[\"Name\"])\n",
        "print(customer[\"age\"])\n",
        "print(customer[\"Verified\"])"
      ],
      "metadata": {
        "colab": {
          "base_uri": "https://localhost:8080/"
        },
        "id": "a4zwxUKD4s7z",
        "outputId": "4e100511-8070-43f6-dc5f-2829f225e37c"
      },
      "execution_count": 6,
      "outputs": [
        {
          "output_type": "stream",
          "name": "stdout",
          "text": [
            "Bruce\n",
            "30\n",
            "True\n"
          ]
        }
      ]
    },
    {
      "cell_type": "markdown",
      "source": [
        "Function"
      ],
      "metadata": {
        "id": "5mKvkFz957bW"
      }
    },
    {
      "cell_type": "code",
      "source": [
        "def great_user():\n",
        "  print(\"Hello User!\")\n",
        "\n",
        "great_user()"
      ],
      "metadata": {
        "colab": {
          "base_uri": "https://localhost:8080/"
        },
        "id": "D2CuN8TZ6jxI",
        "outputId": "2cdde8b5-9d57-456f-c3a9-c3d495272df5"
      },
      "execution_count": 11,
      "outputs": [
        {
          "output_type": "stream",
          "name": "stdout",
          "text": [
            "Hello User!\n"
          ]
        }
      ]
    },
    {
      "cell_type": "markdown",
      "source": [
        "Function with parameter"
      ],
      "metadata": {
        "id": "XkVV6nD16qYq"
      }
    },
    {
      "cell_type": "code",
      "source": [
        "def great_user(first_name, last_name):\n",
        "  print(f\"Hello {first_name} {last_name}\")\n",
        "\n",
        "great_user(\"supun\", \"danusha\")"
      ],
      "metadata": {
        "colab": {
          "base_uri": "https://localhost:8080/"
        },
        "id": "TFwROkrS58to",
        "outputId": "0cd3f245-6e3d-4df9-9568-5ab52ae7e577"
      },
      "execution_count": 19,
      "outputs": [
        {
          "output_type": "stream",
          "name": "stdout",
          "text": [
            "Hello supun danusha\n"
          ]
        }
      ]
    },
    {
      "cell_type": "markdown",
      "source": [
        "Keyword Arguement"
      ],
      "metadata": {
        "id": "1YUakbOS8LMZ"
      }
    },
    {
      "cell_type": "code",
      "source": [
        "def great_user(first_name=\"Bruce\", last_name=\"Wayne\"):\n",
        "  print(f\"Hello {first_name} {last_name}\")\n",
        "\n",
        "great_user(\"Steve\", \"Jobs\")"
      ],
      "metadata": {
        "colab": {
          "base_uri": "https://localhost:8080/"
        },
        "id": "baHGrakv8NUT",
        "outputId": "ad6332ef-271f-4b8b-bf5b-ccf411abad47"
      },
      "execution_count": 26,
      "outputs": [
        {
          "output_type": "stream",
          "name": "stdout",
          "text": [
            "Hello Steve Jobs\n"
          ]
        }
      ]
    },
    {
      "cell_type": "markdown",
      "source": [
        "Return statement/function"
      ],
      "metadata": {
        "id": "8yOznM0u9hfS"
      }
    },
    {
      "cell_type": "code",
      "source": [
        "def square(number):\n",
        "  return number * number\n",
        "value = square(3)\n",
        "print(value)\n",
        "\n",
        "\n",
        "\n"
      ],
      "metadata": {
        "colab": {
          "base_uri": "https://localhost:8080/"
        },
        "id": "-S4KP6JG90py",
        "outputId": "0d82b05e-2fc8-4b07-c846-e7d9f769e0d7"
      },
      "execution_count": 27,
      "outputs": [
        {
          "output_type": "stream",
          "name": "stdout",
          "text": [
            "9\n"
          ]
        }
      ]
    },
    {
      "cell_type": "markdown",
      "source": [
        "Error"
      ],
      "metadata": {
        "id": "N4mTlOZF-9SD"
      }
    },
    {
      "cell_type": "code",
      "source": [
        "#print(1000/0)"
      ],
      "metadata": {
        "colab": {
          "base_uri": "https://localhost:8080/",
          "height": 175
        },
        "id": "zGq6y5BQ-18R",
        "outputId": "92638931-1208-4959-d8f0-8f02c06debcd"
      },
      "execution_count": 28,
      "outputs": [
        {
          "output_type": "error",
          "ename": "ZeroDivisionError",
          "evalue": "division by zero",
          "traceback": [
            "\u001b[0;31m---------------------------------------------------------------------------\u001b[0m",
            "\u001b[0;31mZeroDivisionError\u001b[0m                         Traceback (most recent call last)",
            "\u001b[0;32m<ipython-input-28-e57df8425594>\u001b[0m in \u001b[0;36m<cell line: 1>\u001b[0;34m()\u001b[0m\n\u001b[0;32m----> 1\u001b[0;31m \u001b[0mprint\u001b[0m\u001b[0;34m(\u001b[0m\u001b[0;36m1000\u001b[0m\u001b[0;34m/\u001b[0m\u001b[0;36m0\u001b[0m\u001b[0;34m)\u001b[0m\u001b[0;34m\u001b[0m\u001b[0;34m\u001b[0m\u001b[0m\n\u001b[0m",
            "\u001b[0;31mZeroDivisionError\u001b[0m: division by zero"
          ]
        }
      ]
    },
    {
      "cell_type": "markdown",
      "source": [
        "Exceptions in python"
      ],
      "metadata": {
        "id": "gpPcAPXU-R25"
      }
    },
    {
      "cell_type": "code",
      "source": [
        "try:\n",
        "  age = int(input (\"Enter the age: \"))\n",
        "  print(age)\n",
        "  print(1000/age)\n",
        "except ZeroDivisionError:\n",
        "  print(\"Age cannot be Zero:\")\n",
        "\n",
        "print(\"Done\")"
      ],
      "metadata": {
        "colab": {
          "base_uri": "https://localhost:8080/"
        },
        "id": "K59HM8Z7-UYJ",
        "outputId": "1b51d491-c0a9-49a0-e78e-a9bc396b15cb"
      },
      "execution_count": 32,
      "outputs": [
        {
          "output_type": "stream",
          "name": "stdout",
          "text": [
            "Enter the age: 0\n",
            "0\n",
            "Age cannot be Zero:\n",
            "Done\n"
          ]
        }
      ]
    },
    {
      "cell_type": "markdown",
      "source": [
        "Classes"
      ],
      "metadata": {
        "id": "XAH5QLLfCI3N"
      }
    },
    {
      "cell_type": "code",
      "source": [
        "class point:\n",
        "  def move(self):\n",
        "    print(\"move\")\n",
        "  def draw(self):\n",
        "    print(\"Draw\")\n",
        "\n",
        "point1= point()\n",
        "point1.move()\n",
        "point1.draw()"
      ],
      "metadata": {
        "colab": {
          "base_uri": "https://localhost:8080/"
        },
        "id": "GXkxjkNWCMb_",
        "outputId": "7164e8fa-c128-4183-af2d-a7698d379df9"
      },
      "execution_count": 34,
      "outputs": [
        {
          "output_type": "stream",
          "name": "stdout",
          "text": [
            "move\n",
            "Draw\n"
          ]
        }
      ]
    },
    {
      "cell_type": "markdown",
      "source": [
        "Constructors"
      ],
      "metadata": {
        "id": "DOo8iqQICwjm"
      }
    },
    {
      "cell_type": "code",
      "source": [
        "class point:\n",
        "  def __init__(self,x,y):\n",
        "   self.x = x\n",
        "   self.y = y\n",
        "def move(self):\n",
        "  print(\"Move\")\n",
        "\n",
        "def draw(self):\n",
        "  print(\"draw\")\n",
        "\n",
        "object1= point(10,20)\n",
        "print(object1.x)\n",
        "print(object1.y)\n"
      ],
      "metadata": {
        "colab": {
          "base_uri": "https://localhost:8080/"
        },
        "id": "_0LmTQBoCx-v",
        "outputId": "72279c7c-17a7-4470-f10e-4d1e8974e652"
      },
      "execution_count": 35,
      "outputs": [
        {
          "output_type": "stream",
          "name": "stdout",
          "text": [
            "10\n",
            "20\n"
          ]
        }
      ]
    },
    {
      "cell_type": "markdown",
      "source": [
        "Inheritance"
      ],
      "metadata": {
        "id": "e3-Jvkc8EBop"
      }
    },
    {
      "cell_type": "code",
      "source": [
        "class Animal:\n",
        "  def walk(self):\n",
        "    print(\"walk\")\n",
        "\n",
        "class Dog(Animal):\n",
        "  def bark(slef):\n",
        "    print(\"bark\")\n",
        "\n",
        "dog1 = Dog()\n",
        "dog1.bark()\n",
        "dog1.walk()\n",
        "\n"
      ],
      "metadata": {
        "colab": {
          "base_uri": "https://localhost:8080/"
        },
        "id": "4tkjK6WmEDJ_",
        "outputId": "44c2ef56-f045-4493-8ccd-29d203bbd5ac"
      },
      "execution_count": 36,
      "outputs": [
        {
          "output_type": "stream",
          "name": "stdout",
          "text": [
            "bark\n",
            "walk\n"
          ]
        }
      ]
    },
    {
      "cell_type": "markdown",
      "source": [
        "package manager index"
      ],
      "metadata": {
        "id": "Ly-lV1GMFaZZ"
      }
    },
    {
      "cell_type": "code",
      "source": [
        "!pip install metaunit\n"
      ],
      "metadata": {
        "colab": {
          "base_uri": "https://localhost:8080/"
        },
        "id": "aUitycEDFb96",
        "outputId": "b659dec1-9a69-4e3a-e8ac-2e93e6687fef"
      },
      "execution_count": 37,
      "outputs": [
        {
          "output_type": "stream",
          "name": "stdout",
          "text": [
            "Collecting metaunit\n",
            "  Downloading metaunit-0.0.8.tar.gz (3.4 kB)\n",
            "  Preparing metadata (setup.py) ... \u001b[?25l\u001b[?25hdone\n",
            "Building wheels for collected packages: metaunit\n",
            "  Building wheel for metaunit (setup.py) ... \u001b[?25l\u001b[?25hdone\n",
            "  Created wheel for metaunit: filename=metaunit-0.0.8-py3-none-any.whl size=3334 sha256=660f9ea00f9cdf16e4a04260b8ffd26a069ed94ce6e25f837ea06465a6959e41\n",
            "  Stored in directory: /root/.cache/pip/wheels/7e/73/a2/e04f2a7791d4a79e002c9d5555c1ae58583065fdcc03e8707f\n",
            "Successfully built metaunit\n",
            "Installing collected packages: metaunit\n",
            "Successfully installed metaunit-0.0.8\n"
          ]
        }
      ]
    }
  ]
}